{
 "cells": [
  {
   "cell_type": "code",
   "execution_count": 3,
   "metadata": {},
   "outputs": [],
   "source": [
    "import CellphoneUsage"
   ]
  },
  {
   "cell_type": "code",
   "execution_count": 4,
   "metadata": {},
   "outputs": [],
   "source": [
    "def main():\n",
    "    user_plan = CellphoneUsage.CellphoneUsage()\n",
    "    printProductMenu()\n",
    "    option = getMenuOption()\n",
    "    \n",
    "    while(option != 6):\n",
    "        if option == 1: #Update account info\n",
    "            new_minutes = int(input(\"Enter new minutes: \"))\n",
    "            new_texts = int(input(\"Enter next texts: \"))\n",
    "            user_plan.update_account_info(new_minutes, new_texts)\n",
    "            \n",
    "        elif option == 2: #Make call\n",
    "            minutes = int(input(\"Enter number of minutes in call: \"))\n",
    "            user_plan.make_call(minutes)\n",
    "        \n",
    "        elif option == 3: #Send texts\n",
    "            texts = int(input(\"Enter number of texts sent: \"))\n",
    "            user_plan.send_texts(texts)\n",
    "            \n",
    "        elif option == 4: #View current usage\n",
    "            current_usage = user_plan.view_current_usage()\n",
    "            print(\"Total Minutes Used: \", current_usage[0])\n",
    "            print(\"Total Texts Used: \", current_usage[1])\n",
    "            \n",
    "        elif option == 5: #Finalize bill\n",
    "            final_total = user_plan.finalize_bill()\n",
    "            print(\"Finalized Bill: $\", str(round(final_total, 2)))\n",
    "        \n",
    "        option = getMenuOption()\n",
    "    \n",
    "    if option == 6:\n",
    "        quit()\n",
    "         \n",
    "    "
   ]
  },
  {
   "cell_type": "code",
   "execution_count": 5,
   "metadata": {},
   "outputs": [],
   "source": [
    "#Prints the Product Menu\n",
    "def printProductMenu():\n",
    "    print(\"CELL PHONE PLAN USAGE\")\n",
    "    print(\"1. Update account info\")\n",
    "    print(\"2. Make call\")\n",
    "    print(\"3. Send texts\")\n",
    "    print(\"4. View current usage\")\n",
    "    print(\"5. Finalize bill\")\n",
    "    print(\"6. Terminate\")"
   ]
  },
  {
   "cell_type": "code",
   "execution_count": 6,
   "metadata": {},
   "outputs": [],
   "source": [
    "#Get Menu Option from the user\n",
    "def getMenuOption():\n",
    "    option = input(\"Enter your menu option: \")\n",
    "    option_num = verifyMenuOption(option)\n",
    "    return (option_num)"
   ]
  },
  {
   "cell_type": "code",
   "execution_count": 7,
   "metadata": {},
   "outputs": [],
   "source": [
    "#Verify the menu option is valid\n",
    "def verifyMenuOption(option):\n",
    "    while True:\n",
    "        if option not in {'1', '2', '3', '4', '5', '6'} :\n",
    "            option = input(\"Please enter a valid menu option: \")\n",
    "        else:\n",
    "            break\n",
    "    \n",
    "    option = int(option)\n",
    "    return (option)"
   ]
  },
  {
   "cell_type": "code",
   "execution_count": 8,
   "metadata": {},
   "outputs": [
    {
     "name": "stdout",
     "output_type": "stream",
     "text": [
      "CELL PHONE PLAN USAGE\n",
      "1. Update account info\n",
      "2. Make call\n",
      "3. Send texts\n",
      "4. View current usage\n",
      "5. Finalize bill\n",
      "6. Terminate\n"
     ]
    },
    {
     "name": "stdin",
     "output_type": "stream",
     "text": [
      "Enter your menu option:  2\n",
      "Enter number of minutes in call:  750\n",
      "Enter your menu option:  3\n",
      "Enter number of texts sent:  340\n",
      "Enter your menu option:  5\n"
     ]
    },
    {
     "name": "stdout",
     "output_type": "stream",
     "text": [
      "Finalized Bill: $ 190.45\n"
     ]
    },
    {
     "name": "stdin",
     "output_type": "stream",
     "text": [
      "Enter your menu option:  6\n"
     ]
    }
   ],
   "source": [
    "main()"
   ]
  },
  {
   "cell_type": "code",
   "execution_count": null,
   "metadata": {},
   "outputs": [],
   "source": []
  },
  {
   "cell_type": "code",
   "execution_count": null,
   "metadata": {},
   "outputs": [],
   "source": []
  },
  {
   "cell_type": "code",
   "execution_count": null,
   "metadata": {},
   "outputs": [],
   "source": []
  },
  {
   "cell_type": "code",
   "execution_count": null,
   "metadata": {},
   "outputs": [],
   "source": []
  },
  {
   "cell_type": "code",
   "execution_count": null,
   "metadata": {},
   "outputs": [],
   "source": []
  },
  {
   "cell_type": "code",
   "execution_count": null,
   "metadata": {},
   "outputs": [],
   "source": []
  }
 ],
 "metadata": {
  "kernelspec": {
   "display_name": "Python 3",
   "language": "python",
   "name": "python3"
  },
  "language_info": {
   "codemirror_mode": {
    "name": "ipython",
    "version": 3
   },
   "file_extension": ".py",
   "mimetype": "text/x-python",
   "name": "python",
   "nbconvert_exporter": "python",
   "pygments_lexer": "ipython3",
   "version": "3.8.5"
  }
 },
 "nbformat": 4,
 "nbformat_minor": 4
}
